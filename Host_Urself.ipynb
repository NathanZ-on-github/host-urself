{
  "nbformat": 4,
  "nbformat_minor": 0,
  "metadata": {
    "colab": {
      "name": "Host Urself",
      "provenance": [],
      "collapsed_sections": [],
      "include_colab_link": true
    },
    "kernelspec": {
      "name": "python3",
      "display_name": "Python 3"
    },
    "language_info": {
      "name": "python"
    }
  },
  "cells": [
    {
      "cell_type": "markdown",
      "metadata": {
        "id": "view-in-github",
        "colab_type": "text"
      },
      "source": [
        "<a href=\"https://colab.research.google.com/github/frosDfurret/host-urself/blob/main/Host_Urself.ipynb\" target=\"_parent\"><img src=\"https://colab.research.google.com/assets/colab-badge.svg\" alt=\"Open In Colab\"/></a>"
      ]
    },
    {
      "cell_type": "markdown",
      "source": [
        "<h1>Host Urself</h1>\n",
        "self host ultraviolet\n",
        "so that it doesn't get blocked ez\n",
        "<br>\n",
        "<a href=\"https://github.com/titaniumnetwork-dev/ultraviolet-node\">ultraviolet by titaniumnetwork</a>"
      ],
      "metadata": {
        "id": "kXkb2VAOrM39"
      }
    },
    {
      "cell_type": "code",
      "source": [
        "#@title <- Click to start\n",
        "#@markdown **DON'T FORGET** to go to <a href=\"https://dashboard.ngrok.com/get-started/your-authtoken\">the ngrok site</a> to get your authtoken, which you can then paste below.\n",
        "#@markdown <br>where to find it:<br><a href=\"https://ibb.co/fpPg8s3\"><img src=\"https://i.ibb.co/7W6fgq3/Greenshot-2022-03-28-11-30-09.png\" alt=\"Greenshot-2022-03-28-11-30-09\" border=\"0\"></a>\n",
        "auth = '' #@param {type:\"string\"}\n",
        "print(\"Please wai\")\n",
        "!pip3 install pyngrok &> /dev/null\n",
        "from pyngrok import ngrok\n",
        "ngrok.set_auth_token(auth)\n",
        "serv = ngrok.connect(6942, bind_tls=True)\n",
        "!git clone https://github.com/frosDfurret/Ultraviolet-Node --recursive &> /dev/null\n",
        "!cp -a ./Ultraviolet-Node/* ./ &> /dev/null\n",
        "!rm -rf Ultraviolet-Node &> /dev/null\n",
        "!npm install &> /dev/null\n",
        "!npm install fetch-headers &> /dev/null\n",
        "print(\"All done! You can now open Ultraviolet at the URL below:\")\n",
        "print(serv.public_url)\n",
        "print(\"\\nThanks to TitaniumNetwork for bringing the best in censorship f*ckers!!!\")\n",
        "!npm start &> /dev/null"
      ],
      "metadata": {
        "id": "xQ04pIMNePhf",
        "cellView": "form"
      },
      "execution_count": null,
      "outputs": []
    }
  ]
}